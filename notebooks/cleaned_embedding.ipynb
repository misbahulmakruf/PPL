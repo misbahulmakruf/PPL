{
 "cells": [
  {
   "cell_type": "code",
   "execution_count": 2,
   "metadata": {},
   "outputs": [],
   "source": [
    "import numpy as np\n",
    "\n",
    "# Load original\n",
    "embeddings = np.load(\"../models/saved/book_embeddings.npy\")\n",
    "\n",
    "# Convert to float16\n",
    "embeddings_fp16 = embeddings.astype(np.float16)\n",
    "\n",
    "# Save new version\n",
    "np.save(\"../models/saved/book_embeddings_fp16.npy\", embeddings_fp16)\n"
   ]
  }
 ],
 "metadata": {
  "kernelspec": {
   "display_name": "base",
   "language": "python",
   "name": "python3"
  },
  "language_info": {
   "codemirror_mode": {
    "name": "ipython",
    "version": 3
   },
   "file_extension": ".py",
   "mimetype": "text/x-python",
   "name": "python",
   "nbconvert_exporter": "python",
   "pygments_lexer": "ipython3",
   "version": "3.12.3"
  }
 },
 "nbformat": 4,
 "nbformat_minor": 2
}
